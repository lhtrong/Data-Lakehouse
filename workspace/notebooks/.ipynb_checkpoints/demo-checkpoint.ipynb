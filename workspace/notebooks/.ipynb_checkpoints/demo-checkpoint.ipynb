{
 "cells": [
  {
   "cell_type": "code",
   "execution_count": 1,
   "id": "a76ff28f",
   "metadata": {},
   "outputs": [
    {
     "ename": "IndentationError",
     "evalue": "unexpected indent (3372342659.py, line 24)",
     "output_type": "error",
     "traceback": [
      "\u001b[0;36m  File \u001b[0;32m\"/tmp/ipykernel_1088/3372342659.py\"\u001b[0;36m, line \u001b[0;32m24\u001b[0m\n\u001b[0;31m    .config(\"spark.sql.extensions\", \"io.delta.sql.DeltaSparkSessionExtension\") \\\u001b[0m\n\u001b[0m    ^\u001b[0m\n\u001b[0;31mIndentationError\u001b[0m\u001b[0;31m:\u001b[0m unexpected indent\n"
     ]
    }
   ],
   "source": [
    "from pyspark.sql import SparkSession\n",
    "from datetime import date\n",
    "\n",
    "today = date.today().strftime(\"%b-%d-%Y\")\n",
    "\n",
    "AWS_ACCESS_KEY = os.getenv(\"AWS_ACCESS_KEY\")\n",
    "AWS_SECRET_KEY = os.getenv(\"AWS_SECRET_KEY\")\n",
    "AWS_S3_ENDPOINT = os.getenv(\"AWS_S3_ENDPOINT\")\n",
    "AWS_BUCKET_NAME = os.getenv(\"AWS_BUCKET_NAME\")\n",
    "HIVE_METASTORE_URI = os.getenv(\"HIVE_METASTORE_URI\")\n",
    "\n",
    "spark = SparkSession.builder \\\n",
    "    .appName('Clean data') \\\n",
    "    .config(\"hive.metastore.uris\", \"thrift://hive-metastore:9083\")\\\n",
    "    .config(\"spark.sql.warehouse.dir\",\"s3a://datalake/warehouse\")\\\n",
    "    .config(\"spark.hadoop.fs.s3a.access.key\", AWS_ACCESS_KEY) \\\n",
    "    .config(\"spark.hadoop.fs.s3a.secret.key\", AWS_SECRET_KEY) \\\n",
    "    .config(\"fs.s3a.endpoint\", AWS_S3_ENDPOINT)\\\n",
    "    .config(\"spark.hadoop.fs.s3a.path.style.access\", \"true\")\\\n",
    "    .config(\"spark.hadoop.fs.s3a.impl\", \"org.apache.hadoop.fs.s3a.S3AFileSystem\") \\\n",
    "    .config(\"fs.s3a.connection.ssl.enabled\", \"false\")\\\n",
    "    .config('spark.hadoop.fs.s3a.aws.credentials.provider', 'org.apache.hadoop.fs.s3a.SimpleAWSCredentialsProvider')\\\n",
    "    .config('spark.jars.packages', 'io.delta:delta-core_2.12:1.0.1') \\\n",
    "    .config(\"spark.sql.extensions\", \"io.delta.sql.DeltaSparkSessionExtension\") \\\n",
    "    .config(\"spark.sql.catalog.spark_catalog\", \"org.apache.spark.sql.delta.catalog.DeltaCatalog\")\\\n",
    "    .enableHiveSupport()\\\n",
    "    .config('spark.jars','/opt/spark/jars/aws-java-sdk-bundle-1.11.375.jar')\\\n",
    "    .config('spark.jars','/opt/spark/jars/hadoop-aws-3.2.0.jar')\\\n",
    "    .config('spark.jars','/opt/spark/jars/delta-core_2.12-1.0.1.jar')\\\n",
    "    .getOrCreate()\n",
    "\n",
    "\n",
    "spark.sparkContext.setLogLevel(\"ERROR\")\n",
    "\n",
    "spark.sql(\"CREATE DATABASE IF NOT EXISTS dwh COMMENT 'Data Warehouse for Car Part'\")\n",
    "\n",
    "\n",
    "# Reading tables from landing area\n",
    "print('\\nReading ...')\n",
    "Brand = spark.read.format(\"delta\").load(f's3a://datalake/bronze/CarPartsDB/{today}/Brand')"
   ]
  },
  {
   "cell_type": "code",
   "execution_count": null,
   "id": "16b6356c",
   "metadata": {},
   "outputs": [],
   "source": []
  }
 ],
 "metadata": {
  "kernelspec": {
   "display_name": "Python 3 (ipykernel)",
   "language": "python",
   "name": "python3"
  },
  "language_info": {
   "codemirror_mode": {
    "name": "ipython",
    "version": 3
   },
   "file_extension": ".py",
   "mimetype": "text/x-python",
   "name": "python",
   "nbconvert_exporter": "python",
   "pygments_lexer": "ipython3",
   "version": "3.7.3"
  }
 },
 "nbformat": 4,
 "nbformat_minor": 5
}
